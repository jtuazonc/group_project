{
 "cells": [
  {
   "cell_type": "markdown",
   "metadata": {},
   "source": []
  },
  {
   "cell_type": "code",
   "execution_count": 2,
   "metadata": {},
   "outputs": [
    {
     "name": "stderr",
     "output_type": "stream",
     "text": [
      "── \u001b[1mAttaching packages\u001b[22m ─────────────────────────────────────── tidyverse 1.3.0 ──\n",
      "\n",
      "\u001b[32m✔\u001b[39m \u001b[34mggplot2\u001b[39m 3.3.2     \u001b[32m✔\u001b[39m \u001b[34mpurrr  \u001b[39m 0.3.4\n",
      "\u001b[32m✔\u001b[39m \u001b[34mtibble \u001b[39m 3.0.3     \u001b[32m✔\u001b[39m \u001b[34mdplyr  \u001b[39m 1.0.2\n",
      "\u001b[32m✔\u001b[39m \u001b[34mtidyr  \u001b[39m 1.1.2     \u001b[32m✔\u001b[39m \u001b[34mstringr\u001b[39m 1.4.0\n",
      "\u001b[32m✔\u001b[39m \u001b[34mreadr  \u001b[39m 1.3.1     \u001b[32m✔\u001b[39m \u001b[34mforcats\u001b[39m 0.5.0\n",
      "\n",
      "Warning message:\n",
      "“package ‘ggplot2’ was built under R version 4.0.1”\n",
      "Warning message:\n",
      "“package ‘tibble’ was built under R version 4.0.2”\n",
      "Warning message:\n",
      "“package ‘tidyr’ was built under R version 4.0.2”\n",
      "Warning message:\n",
      "“package ‘dplyr’ was built under R version 4.0.2”\n",
      "── \u001b[1mConflicts\u001b[22m ────────────────────────────────────────── tidyverse_conflicts() ──\n",
      "\u001b[31m✖\u001b[39m \u001b[34mdplyr\u001b[39m::\u001b[32mfilter()\u001b[39m masks \u001b[34mstats\u001b[39m::filter()\n",
      "\u001b[31m✖\u001b[39m \u001b[34mdplyr\u001b[39m::\u001b[32mlag()\u001b[39m    masks \u001b[34mstats\u001b[39m::lag()\n",
      "\n",
      "Warning message:\n",
      "“package ‘tidymodels’ was built under R version 4.0.2”\n",
      "── \u001b[1mAttaching packages\u001b[22m ────────────────────────────────────── tidymodels 0.1.1 ──\n",
      "\n",
      "\u001b[32m✔\u001b[39m \u001b[34mbroom    \u001b[39m 0.7.0      \u001b[32m✔\u001b[39m \u001b[34mrecipes  \u001b[39m 0.1.13\n",
      "\u001b[32m✔\u001b[39m \u001b[34mdials    \u001b[39m 0.0.9      \u001b[32m✔\u001b[39m \u001b[34mrsample  \u001b[39m 0.0.7 \n",
      "\u001b[32m✔\u001b[39m \u001b[34minfer    \u001b[39m 0.5.4      \u001b[32m✔\u001b[39m \u001b[34mtune     \u001b[39m 0.1.1 \n",
      "\u001b[32m✔\u001b[39m \u001b[34mmodeldata\u001b[39m 0.0.2      \u001b[32m✔\u001b[39m \u001b[34mworkflows\u001b[39m 0.2.0 \n",
      "\u001b[32m✔\u001b[39m \u001b[34mparsnip  \u001b[39m 0.1.3      \u001b[32m✔\u001b[39m \u001b[34myardstick\u001b[39m 0.0.7 \n",
      "\n",
      "Warning message:\n",
      "“package ‘broom’ was built under R version 4.0.2”\n",
      "Warning message:\n",
      "“package ‘dials’ was built under R version 4.0.2”\n",
      "Warning message:\n",
      "“package ‘infer’ was built under R version 4.0.3”\n",
      "Warning message:\n",
      "“package ‘modeldata’ was built under R version 4.0.1”\n",
      "Warning message:\n",
      "“package ‘parsnip’ was built under R version 4.0.2”\n",
      "Warning message:\n",
      "“package ‘recipes’ was built under R version 4.0.1”\n",
      "Warning message:\n",
      "“package ‘tune’ was built under R version 4.0.2”\n",
      "Warning message:\n",
      "“package ‘workflows’ was built under R version 4.0.2”\n",
      "Warning message:\n",
      "“package ‘yardstick’ was built under R version 4.0.2”\n",
      "── \u001b[1mConflicts\u001b[22m ───────────────────────────────────────── tidymodels_conflicts() ──\n",
      "\u001b[31m✖\u001b[39m \u001b[34mscales\u001b[39m::\u001b[32mdiscard()\u001b[39m masks \u001b[34mpurrr\u001b[39m::discard()\n",
      "\u001b[31m✖\u001b[39m \u001b[34mdplyr\u001b[39m::\u001b[32mfilter()\u001b[39m   masks \u001b[34mstats\u001b[39m::filter()\n",
      "\u001b[31m✖\u001b[39m \u001b[34mrecipes\u001b[39m::\u001b[32mfixed()\u001b[39m  masks \u001b[34mstringr\u001b[39m::fixed()\n",
      "\u001b[31m✖\u001b[39m \u001b[34mdplyr\u001b[39m::\u001b[32mlag()\u001b[39m      masks \u001b[34mstats\u001b[39m::lag()\n",
      "\u001b[31m✖\u001b[39m \u001b[34myardstick\u001b[39m::\u001b[32mspec()\u001b[39m masks \u001b[34mreadr\u001b[39m::spec()\n",
      "\u001b[31m✖\u001b[39m \u001b[34mrecipes\u001b[39m::\u001b[32mstep()\u001b[39m   masks \u001b[34mstats\u001b[39m::step()\n",
      "\n"
     ]
    }
   ],
   "source": [
    "library(tidyverse)\n",
    "library(repr)\n",
    "library(tidymodels)\n",
    "options(repr.matrix.max.rows = 6)"
   ]
  },
  {
   "cell_type": "code",
   "execution_count": 4,
   "metadata": {},
   "outputs": [
    {
     "name": "stderr",
     "output_type": "stream",
     "text": [
      "Parsed with column specification:\n",
      "cols(\n",
      "  .default = col_double(),\n",
      "  Country = \u001b[31mcol_character()\u001b[39m,\n",
      "  Region = \u001b[31mcol_character()\u001b[39m,\n",
      "  `GDP per Capita` = \u001b[31mcol_character()\u001b[39m,\n",
      "  `Data Quality` = \u001b[31mcol_character()\u001b[39m\n",
      ")\n",
      "\n",
      "See spec(...) for full column specifications.\n",
      "\n"
     ]
    },
    {
     "data": {
      "text/html": [
       "<table>\n",
       "<caption>A spec_tbl_df: 188 × 21</caption>\n",
       "<thead>\n",
       "\t<tr><th scope=col>Country</th><th scope=col>Region</th><th scope=col>Population (millions)</th><th scope=col>HDI</th><th scope=col>GDP per Capita</th><th scope=col>Cropland Footprint</th><th scope=col>Grazing Footprint</th><th scope=col>Forest Footprint</th><th scope=col>Carbon Footprint</th><th scope=col>Fish Footprint</th><th scope=col>⋯</th><th scope=col>Cropland</th><th scope=col>Grazing Land</th><th scope=col>Forest Land</th><th scope=col>Fishing Water</th><th scope=col>Urban Land</th><th scope=col>Total Biocapacity</th><th scope=col>Biocapacity Deficit or Reserve</th><th scope=col>Earths Required</th><th scope=col>Countries Required</th><th scope=col>Data Quality</th></tr>\n",
       "\t<tr><th scope=col>&lt;chr&gt;</th><th scope=col>&lt;chr&gt;</th><th scope=col>&lt;dbl&gt;</th><th scope=col>&lt;dbl&gt;</th><th scope=col>&lt;chr&gt;</th><th scope=col>&lt;dbl&gt;</th><th scope=col>&lt;dbl&gt;</th><th scope=col>&lt;dbl&gt;</th><th scope=col>&lt;dbl&gt;</th><th scope=col>&lt;dbl&gt;</th><th scope=col>⋯</th><th scope=col>&lt;dbl&gt;</th><th scope=col>&lt;dbl&gt;</th><th scope=col>&lt;dbl&gt;</th><th scope=col>&lt;dbl&gt;</th><th scope=col>&lt;dbl&gt;</th><th scope=col>&lt;dbl&gt;</th><th scope=col>&lt;dbl&gt;</th><th scope=col>&lt;dbl&gt;</th><th scope=col>&lt;dbl&gt;</th><th scope=col>&lt;chr&gt;</th></tr>\n",
       "</thead>\n",
       "<tbody>\n",
       "\t<tr><td>Afghanistan</td><td>Middle East/Central Asia</td><td>29.82</td><td>0.46</td><td>$614.66  </td><td>0.30</td><td>0.20</td><td>0.08</td><td>0.18</td><td>0.00</td><td>⋯</td><td>0.24</td><td>0.20</td><td>0.02</td><td>0.00</td><td>0.04</td><td>0.50</td><td>-0.30</td><td>0.46</td><td>1.60</td><td>6</td></tr>\n",
       "\t<tr><td>Albania    </td><td>Northern/Eastern Europe </td><td> 3.16</td><td>0.73</td><td>$4,534.37</td><td>0.78</td><td>0.22</td><td>0.25</td><td>0.87</td><td>0.02</td><td>⋯</td><td>0.55</td><td>0.21</td><td>0.29</td><td>0.07</td><td>0.06</td><td>1.18</td><td>-1.03</td><td>1.27</td><td>1.87</td><td>6</td></tr>\n",
       "\t<tr><td>Algeria    </td><td>Africa                  </td><td>38.48</td><td>0.73</td><td>$5,430.57</td><td>0.60</td><td>0.16</td><td>0.17</td><td>1.14</td><td>0.01</td><td>⋯</td><td>0.24</td><td>0.27</td><td>0.03</td><td>0.01</td><td>0.03</td><td>0.59</td><td>-1.53</td><td>1.22</td><td>3.61</td><td>5</td></tr>\n",
       "\t<tr><td>⋮</td><td>⋮</td><td>⋮</td><td>⋮</td><td>⋮</td><td>⋮</td><td>⋮</td><td>⋮</td><td>⋮</td><td>⋮</td><td>⋱</td><td>⋮</td><td>⋮</td><td>⋮</td><td>⋮</td><td>⋮</td><td>⋮</td><td>⋮</td><td>⋮</td><td>⋮</td><td>⋮</td></tr>\n",
       "\t<tr><td>Yemen   </td><td>Middle East/Central Asia</td><td>23.85</td><td>0.50</td><td>$1,302.30</td><td>0.34</td><td>0.14</td><td>0.04</td><td>0.42</td><td>0.04</td><td>⋯</td><td>0.09</td><td>0.12</td><td>0.04</td><td>0.20</td><td>0.04</td><td>0.50</td><td>-0.53</td><td>0.59</td><td>2.06</td><td>5</td></tr>\n",
       "\t<tr><td>Zambia  </td><td>Africa                  </td><td>14.08</td><td>0.58</td><td>$1,740.64</td><td>0.19</td><td>0.18</td><td>0.33</td><td>0.24</td><td>0.01</td><td>⋯</td><td>0.24</td><td>0.94</td><td>0.99</td><td>0.02</td><td>0.04</td><td>2.23</td><td> 1.24</td><td>0.57</td><td>0.44</td><td>6</td></tr>\n",
       "\t<tr><td>Zimbabwe</td><td>Africa                  </td><td>13.72</td><td>0.49</td><td>$865.91  </td><td>0.20</td><td>0.32</td><td>0.29</td><td>0.53</td><td>0.01</td><td>⋯</td><td>0.15</td><td>0.32</td><td>0.12</td><td>0.01</td><td>0.02</td><td>0.62</td><td>-0.75</td><td>0.79</td><td>2.20</td><td>6</td></tr>\n",
       "</tbody>\n",
       "</table>\n"
      ],
      "text/latex": [
       "A spec\\_tbl\\_df: 188 × 21\n",
       "\\begin{tabular}{lllllllllllllllllllll}\n",
       " Country & Region & Population (millions) & HDI & GDP per Capita & Cropland Footprint & Grazing Footprint & Forest Footprint & Carbon Footprint & Fish Footprint & ⋯ & Cropland & Grazing Land & Forest Land & Fishing Water & Urban Land & Total Biocapacity & Biocapacity Deficit or Reserve & Earths Required & Countries Required & Data Quality\\\\\n",
       " <chr> & <chr> & <dbl> & <dbl> & <chr> & <dbl> & <dbl> & <dbl> & <dbl> & <dbl> & ⋯ & <dbl> & <dbl> & <dbl> & <dbl> & <dbl> & <dbl> & <dbl> & <dbl> & <dbl> & <chr>\\\\\n",
       "\\hline\n",
       "\t Afghanistan & Middle East/Central Asia & 29.82 & 0.46 & \\$614.66   & 0.30 & 0.20 & 0.08 & 0.18 & 0.00 & ⋯ & 0.24 & 0.20 & 0.02 & 0.00 & 0.04 & 0.50 & -0.30 & 0.46 & 1.60 & 6\\\\\n",
       "\t Albania     & Northern/Eastern Europe  &  3.16 & 0.73 & \\$4,534.37 & 0.78 & 0.22 & 0.25 & 0.87 & 0.02 & ⋯ & 0.55 & 0.21 & 0.29 & 0.07 & 0.06 & 1.18 & -1.03 & 1.27 & 1.87 & 6\\\\\n",
       "\t Algeria     & Africa                   & 38.48 & 0.73 & \\$5,430.57 & 0.60 & 0.16 & 0.17 & 1.14 & 0.01 & ⋯ & 0.24 & 0.27 & 0.03 & 0.01 & 0.03 & 0.59 & -1.53 & 1.22 & 3.61 & 5\\\\\n",
       "\t ⋮ & ⋮ & ⋮ & ⋮ & ⋮ & ⋮ & ⋮ & ⋮ & ⋮ & ⋮ & ⋱ & ⋮ & ⋮ & ⋮ & ⋮ & ⋮ & ⋮ & ⋮ & ⋮ & ⋮ & ⋮\\\\\n",
       "\t Yemen    & Middle East/Central Asia & 23.85 & 0.50 & \\$1,302.30 & 0.34 & 0.14 & 0.04 & 0.42 & 0.04 & ⋯ & 0.09 & 0.12 & 0.04 & 0.20 & 0.04 & 0.50 & -0.53 & 0.59 & 2.06 & 5\\\\\n",
       "\t Zambia   & Africa                   & 14.08 & 0.58 & \\$1,740.64 & 0.19 & 0.18 & 0.33 & 0.24 & 0.01 & ⋯ & 0.24 & 0.94 & 0.99 & 0.02 & 0.04 & 2.23 &  1.24 & 0.57 & 0.44 & 6\\\\\n",
       "\t Zimbabwe & Africa                   & 13.72 & 0.49 & \\$865.91   & 0.20 & 0.32 & 0.29 & 0.53 & 0.01 & ⋯ & 0.15 & 0.32 & 0.12 & 0.01 & 0.02 & 0.62 & -0.75 & 0.79 & 2.20 & 6\\\\\n",
       "\\end{tabular}\n"
      ],
      "text/markdown": [
       "\n",
       "A spec_tbl_df: 188 × 21\n",
       "\n",
       "| Country &lt;chr&gt; | Region &lt;chr&gt; | Population (millions) &lt;dbl&gt; | HDI &lt;dbl&gt; | GDP per Capita &lt;chr&gt; | Cropland Footprint &lt;dbl&gt; | Grazing Footprint &lt;dbl&gt; | Forest Footprint &lt;dbl&gt; | Carbon Footprint &lt;dbl&gt; | Fish Footprint &lt;dbl&gt; | ⋯ ⋯ | Cropland &lt;dbl&gt; | Grazing Land &lt;dbl&gt; | Forest Land &lt;dbl&gt; | Fishing Water &lt;dbl&gt; | Urban Land &lt;dbl&gt; | Total Biocapacity &lt;dbl&gt; | Biocapacity Deficit or Reserve &lt;dbl&gt; | Earths Required &lt;dbl&gt; | Countries Required &lt;dbl&gt; | Data Quality &lt;chr&gt; |\n",
       "|---|---|---|---|---|---|---|---|---|---|---|---|---|---|---|---|---|---|---|---|---|\n",
       "| Afghanistan | Middle East/Central Asia | 29.82 | 0.46 | $614.66   | 0.30 | 0.20 | 0.08 | 0.18 | 0.00 | ⋯ | 0.24 | 0.20 | 0.02 | 0.00 | 0.04 | 0.50 | -0.30 | 0.46 | 1.60 | 6 |\n",
       "| Albania     | Northern/Eastern Europe  |  3.16 | 0.73 | $4,534.37 | 0.78 | 0.22 | 0.25 | 0.87 | 0.02 | ⋯ | 0.55 | 0.21 | 0.29 | 0.07 | 0.06 | 1.18 | -1.03 | 1.27 | 1.87 | 6 |\n",
       "| Algeria     | Africa                   | 38.48 | 0.73 | $5,430.57 | 0.60 | 0.16 | 0.17 | 1.14 | 0.01 | ⋯ | 0.24 | 0.27 | 0.03 | 0.01 | 0.03 | 0.59 | -1.53 | 1.22 | 3.61 | 5 |\n",
       "| ⋮ | ⋮ | ⋮ | ⋮ | ⋮ | ⋮ | ⋮ | ⋮ | ⋮ | ⋮ | ⋱ | ⋮ | ⋮ | ⋮ | ⋮ | ⋮ | ⋮ | ⋮ | ⋮ | ⋮ | ⋮ |\n",
       "| Yemen    | Middle East/Central Asia | 23.85 | 0.50 | $1,302.30 | 0.34 | 0.14 | 0.04 | 0.42 | 0.04 | ⋯ | 0.09 | 0.12 | 0.04 | 0.20 | 0.04 | 0.50 | -0.53 | 0.59 | 2.06 | 5 |\n",
       "| Zambia   | Africa                   | 14.08 | 0.58 | $1,740.64 | 0.19 | 0.18 | 0.33 | 0.24 | 0.01 | ⋯ | 0.24 | 0.94 | 0.99 | 0.02 | 0.04 | 2.23 |  1.24 | 0.57 | 0.44 | 6 |\n",
       "| Zimbabwe | Africa                   | 13.72 | 0.49 | $865.91   | 0.20 | 0.32 | 0.29 | 0.53 | 0.01 | ⋯ | 0.15 | 0.32 | 0.12 | 0.01 | 0.02 | 0.62 | -0.75 | 0.79 | 2.20 | 6 |\n",
       "\n"
      ],
      "text/plain": [
       "    Country     Region                   Population (millions) HDI \n",
       "1   Afghanistan Middle East/Central Asia 29.82                 0.46\n",
       "2   Albania     Northern/Eastern Europe   3.16                 0.73\n",
       "3   Algeria     Africa                   38.48                 0.73\n",
       "⋮   ⋮           ⋮                        ⋮                     ⋮   \n",
       "186 Yemen       Middle East/Central Asia 23.85                 0.50\n",
       "187 Zambia      Africa                   14.08                 0.58\n",
       "188 Zimbabwe    Africa                   13.72                 0.49\n",
       "    GDP per Capita Cropland Footprint Grazing Footprint Forest Footprint\n",
       "1   $614.66        0.30               0.20              0.08            \n",
       "2   $4,534.37      0.78               0.22              0.25            \n",
       "3   $5,430.57      0.60               0.16              0.17            \n",
       "⋮   ⋮              ⋮                  ⋮                 ⋮               \n",
       "186 $1,302.30      0.34               0.14              0.04            \n",
       "187 $1,740.64      0.19               0.18              0.33            \n",
       "188 $865.91        0.20               0.32              0.29            \n",
       "    Carbon Footprint Fish Footprint ⋯ Cropland Grazing Land Forest Land\n",
       "1   0.18             0.00           ⋯ 0.24     0.20         0.02       \n",
       "2   0.87             0.02           ⋯ 0.55     0.21         0.29       \n",
       "3   1.14             0.01           ⋯ 0.24     0.27         0.03       \n",
       "⋮   ⋮                ⋮              ⋱ ⋮        ⋮            ⋮          \n",
       "186 0.42             0.04           ⋯ 0.09     0.12         0.04       \n",
       "187 0.24             0.01           ⋯ 0.24     0.94         0.99       \n",
       "188 0.53             0.01           ⋯ 0.15     0.32         0.12       \n",
       "    Fishing Water Urban Land Total Biocapacity Biocapacity Deficit or Reserve\n",
       "1   0.00          0.04       0.50              -0.30                         \n",
       "2   0.07          0.06       1.18              -1.03                         \n",
       "3   0.01          0.03       0.59              -1.53                         \n",
       "⋮   ⋮             ⋮          ⋮                 ⋮                             \n",
       "186 0.20          0.04       0.50              -0.53                         \n",
       "187 0.02          0.04       2.23               1.24                         \n",
       "188 0.01          0.02       0.62              -0.75                         \n",
       "    Earths Required Countries Required Data Quality\n",
       "1   0.46            1.60               6           \n",
       "2   1.27            1.87               6           \n",
       "3   1.22            3.61               5           \n",
       "⋮   ⋮               ⋮                  ⋮           \n",
       "186 0.59            2.06               5           \n",
       "187 0.57            0.44               6           \n",
       "188 0.79            2.20               6           "
      ]
     },
     "metadata": {},
     "output_type": "display_data"
    }
   ],
   "source": [
    "countries <- read_csv(\"countries.csv\")\n",
    "countries"
   ]
  },
  {
   "cell_type": "code",
   "execution_count": null,
   "metadata": {},
   "outputs": [],
   "source": []
  }
 ],
 "metadata": {
  "kernelspec": {
   "display_name": "R",
   "language": "R",
   "name": "ir"
  },
  "language_info": {
   "codemirror_mode": "r",
   "file_extension": ".r",
   "mimetype": "text/x-r-source",
   "name": "R",
   "pygments_lexer": "r",
   "version": "4.0.0"
  }
 },
 "nbformat": 4,
 "nbformat_minor": 4
}
